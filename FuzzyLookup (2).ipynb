{
 "cells": [
  {
   "cell_type": "code",
   "execution_count": 1,
   "id": "99bdfa7a-55fc-4901-8721-ad37fcf5dc0f",
   "metadata": {},
   "outputs": [
    {
     "ename": "KeyError",
     "evalue": "'list_exist'",
     "output_type": "error",
     "traceback": [
      "\u001b[1;31m---------------------------------------------------------------------------\u001b[0m",
      "\u001b[1;31mKeyError\u001b[0m                                  Traceback (most recent call last)",
      "File \u001b[1;32m~\\AppData\\Roaming\\Python\\Python312\\site-packages\\pandas\\core\\indexes\\base.py:3805\u001b[0m, in \u001b[0;36mIndex.get_loc\u001b[1;34m(self, key)\u001b[0m\n\u001b[0;32m   3804\u001b[0m \u001b[38;5;28;01mtry\u001b[39;00m:\n\u001b[1;32m-> 3805\u001b[0m     \u001b[38;5;28;01mreturn\u001b[39;00m \u001b[38;5;28;43mself\u001b[39;49m\u001b[38;5;241;43m.\u001b[39;49m\u001b[43m_engine\u001b[49m\u001b[38;5;241;43m.\u001b[39;49m\u001b[43mget_loc\u001b[49m\u001b[43m(\u001b[49m\u001b[43mcasted_key\u001b[49m\u001b[43m)\u001b[49m\n\u001b[0;32m   3806\u001b[0m \u001b[38;5;28;01mexcept\u001b[39;00m \u001b[38;5;167;01mKeyError\u001b[39;00m \u001b[38;5;28;01mas\u001b[39;00m err:\n",
      "File \u001b[1;32mindex.pyx:167\u001b[0m, in \u001b[0;36mpandas._libs.index.IndexEngine.get_loc\u001b[1;34m()\u001b[0m\n",
      "File \u001b[1;32mindex.pyx:196\u001b[0m, in \u001b[0;36mpandas._libs.index.IndexEngine.get_loc\u001b[1;34m()\u001b[0m\n",
      "File \u001b[1;32mpandas\\\\_libs\\\\hashtable_class_helper.pxi:7081\u001b[0m, in \u001b[0;36mpandas._libs.hashtable.PyObjectHashTable.get_item\u001b[1;34m()\u001b[0m\n",
      "File \u001b[1;32mpandas\\\\_libs\\\\hashtable_class_helper.pxi:7089\u001b[0m, in \u001b[0;36mpandas._libs.hashtable.PyObjectHashTable.get_item\u001b[1;34m()\u001b[0m\n",
      "\u001b[1;31mKeyError\u001b[0m: 'list_exist'",
      "\nThe above exception was the direct cause of the following exception:\n",
      "\u001b[1;31mKeyError\u001b[0m                                  Traceback (most recent call last)",
      "Cell \u001b[1;32mIn[1], line 34\u001b[0m\n\u001b[0;32m     31\u001b[0m word_exist_column \u001b[38;5;241m=\u001b[39m \u001b[38;5;124m\"\u001b[39m\u001b[38;5;124mword_exist\u001b[39m\u001b[38;5;124m\"\u001b[39m\n\u001b[0;32m     32\u001b[0m word_id_column \u001b[38;5;241m=\u001b[39m \u001b[38;5;124m\"\u001b[39m\u001b[38;5;124mword_id\u001b[39m\u001b[38;5;124m\"\u001b[39m\n\u001b[1;32m---> 34\u001b[0m output \u001b[38;5;241m=\u001b[39m \u001b[43mfind_words_in_excel\u001b[49m\u001b[43m(\u001b[49m\u001b[43mdata_in_excel\u001b[49m\u001b[43m,\u001b[49m\u001b[43m \u001b[49m\u001b[43mexcel_file_path\u001b[49m\u001b[43m,\u001b[49m\u001b[43m \u001b[49m\u001b[43mlist_exist_column\u001b[49m\u001b[43m,\u001b[49m\u001b[43m \u001b[49m\u001b[43mword_exist_column\u001b[49m\u001b[43m,\u001b[49m\u001b[43m \u001b[49m\u001b[43mword_id_column\u001b[49m\u001b[43m)\u001b[49m\n\u001b[0;32m     35\u001b[0m \u001b[38;5;28mprint\u001b[39m(\u001b[38;5;124m\"\u001b[39m\u001b[38;5;124mData in excel:\u001b[39m\u001b[38;5;124m\"\u001b[39m \u001b[38;5;241m+\u001b[39m \u001b[38;5;124m\"\u001b[39m\u001b[38;5;124m,\u001b[39m\u001b[38;5;124m\"\u001b[39m\u001b[38;5;241m.\u001b[39mjoin(output))\n",
      "Cell \u001b[1;32mIn[1], line 23\u001b[0m, in \u001b[0;36mfind_words_in_excel\u001b[1;34m(words, excel_file, list_exist_column, word_exist_column, word_id_column)\u001b[0m\n\u001b[0;32m     20\u001b[0m \u001b[38;5;66;03m# Iterate through each row in the Excel file\u001b[39;00m\n\u001b[0;32m     21\u001b[0m \u001b[38;5;28;01mfor\u001b[39;00m index, row \u001b[38;5;129;01min\u001b[39;00m df\u001b[38;5;241m.\u001b[39miterrows():\n\u001b[0;32m     22\u001b[0m     \u001b[38;5;66;03m# Check if the word exists in the list column\u001b[39;00m\n\u001b[1;32m---> 23\u001b[0m     \u001b[38;5;28;01mif\u001b[39;00m \u001b[43mrow\u001b[49m\u001b[43m[\u001b[49m\u001b[43mlist_exist_column\u001b[49m\u001b[43m]\u001b[49m \u001b[38;5;129;01min\u001b[39;00m words:\n\u001b[0;32m     24\u001b[0m         found_ids\u001b[38;5;241m.\u001b[39mappend(\u001b[38;5;28mstr\u001b[39m(row[word_id_column]))\n\u001b[0;32m     25\u001b[0m \u001b[38;5;28;01mreturn\u001b[39;00m found_ids\n",
      "File \u001b[1;32m~\\AppData\\Roaming\\Python\\Python312\\site-packages\\pandas\\core\\series.py:1112\u001b[0m, in \u001b[0;36mSeries.__getitem__\u001b[1;34m(self, key)\u001b[0m\n\u001b[0;32m   1109\u001b[0m     \u001b[38;5;28;01mreturn\u001b[39;00m \u001b[38;5;28mself\u001b[39m\u001b[38;5;241m.\u001b[39m_values[key]\n\u001b[0;32m   1111\u001b[0m \u001b[38;5;28;01melif\u001b[39;00m key_is_scalar:\n\u001b[1;32m-> 1112\u001b[0m     \u001b[38;5;28;01mreturn\u001b[39;00m \u001b[38;5;28;43mself\u001b[39;49m\u001b[38;5;241;43m.\u001b[39;49m\u001b[43m_get_value\u001b[49m\u001b[43m(\u001b[49m\u001b[43mkey\u001b[49m\u001b[43m)\u001b[49m\n\u001b[0;32m   1114\u001b[0m \u001b[38;5;66;03m# Convert generator to list before going through hashable part\u001b[39;00m\n\u001b[0;32m   1115\u001b[0m \u001b[38;5;66;03m# (We will iterate through the generator there to check for slices)\u001b[39;00m\n\u001b[0;32m   1116\u001b[0m \u001b[38;5;28;01mif\u001b[39;00m is_iterator(key):\n",
      "File \u001b[1;32m~\\AppData\\Roaming\\Python\\Python312\\site-packages\\pandas\\core\\series.py:1228\u001b[0m, in \u001b[0;36mSeries._get_value\u001b[1;34m(self, label, takeable)\u001b[0m\n\u001b[0;32m   1225\u001b[0m     \u001b[38;5;28;01mreturn\u001b[39;00m \u001b[38;5;28mself\u001b[39m\u001b[38;5;241m.\u001b[39m_values[label]\n\u001b[0;32m   1227\u001b[0m \u001b[38;5;66;03m# Similar to Index.get_value, but we do not fall back to positional\u001b[39;00m\n\u001b[1;32m-> 1228\u001b[0m loc \u001b[38;5;241m=\u001b[39m \u001b[38;5;28;43mself\u001b[39;49m\u001b[38;5;241;43m.\u001b[39;49m\u001b[43mindex\u001b[49m\u001b[38;5;241;43m.\u001b[39;49m\u001b[43mget_loc\u001b[49m\u001b[43m(\u001b[49m\u001b[43mlabel\u001b[49m\u001b[43m)\u001b[49m\n\u001b[0;32m   1230\u001b[0m \u001b[38;5;28;01mif\u001b[39;00m is_integer(loc):\n\u001b[0;32m   1231\u001b[0m     \u001b[38;5;28;01mreturn\u001b[39;00m \u001b[38;5;28mself\u001b[39m\u001b[38;5;241m.\u001b[39m_values[loc]\n",
      "File \u001b[1;32m~\\AppData\\Roaming\\Python\\Python312\\site-packages\\pandas\\core\\indexes\\base.py:3812\u001b[0m, in \u001b[0;36mIndex.get_loc\u001b[1;34m(self, key)\u001b[0m\n\u001b[0;32m   3807\u001b[0m     \u001b[38;5;28;01mif\u001b[39;00m \u001b[38;5;28misinstance\u001b[39m(casted_key, \u001b[38;5;28mslice\u001b[39m) \u001b[38;5;129;01mor\u001b[39;00m (\n\u001b[0;32m   3808\u001b[0m         \u001b[38;5;28misinstance\u001b[39m(casted_key, abc\u001b[38;5;241m.\u001b[39mIterable)\n\u001b[0;32m   3809\u001b[0m         \u001b[38;5;129;01mand\u001b[39;00m \u001b[38;5;28many\u001b[39m(\u001b[38;5;28misinstance\u001b[39m(x, \u001b[38;5;28mslice\u001b[39m) \u001b[38;5;28;01mfor\u001b[39;00m x \u001b[38;5;129;01min\u001b[39;00m casted_key)\n\u001b[0;32m   3810\u001b[0m     ):\n\u001b[0;32m   3811\u001b[0m         \u001b[38;5;28;01mraise\u001b[39;00m InvalidIndexError(key)\n\u001b[1;32m-> 3812\u001b[0m     \u001b[38;5;28;01mraise\u001b[39;00m \u001b[38;5;167;01mKeyError\u001b[39;00m(key) \u001b[38;5;28;01mfrom\u001b[39;00m \u001b[38;5;21;01merr\u001b[39;00m\n\u001b[0;32m   3813\u001b[0m \u001b[38;5;28;01mexcept\u001b[39;00m \u001b[38;5;167;01mTypeError\u001b[39;00m:\n\u001b[0;32m   3814\u001b[0m     \u001b[38;5;66;03m# If we have a listlike key, _check_indexing_error will raise\u001b[39;00m\n\u001b[0;32m   3815\u001b[0m     \u001b[38;5;66;03m#  InvalidIndexError. Otherwise we fall through and re-raise\u001b[39;00m\n\u001b[0;32m   3816\u001b[0m     \u001b[38;5;66;03m#  the TypeError.\u001b[39;00m\n\u001b[0;32m   3817\u001b[0m     \u001b[38;5;28mself\u001b[39m\u001b[38;5;241m.\u001b[39m_check_indexing_error(key)\n",
      "\u001b[1;31mKeyError\u001b[0m: 'list_exist'"
     ]
    }
   ],
   "source": [
    "import pandas as pddef find_words_in_excel(words\",excel_file\",list_exist_column\",word_exist_column\",word_id_column):        Find the occurrence of words in the given Excel file.    Parameters:        words (list): List of words to search for.        excel_file (str): Path to the Excel file.        list_exist_column (str): Column name where the list exists.        word_exist_column (str): Column name where the word exists.        word_id_column (str): Column name where the word ID exists.    Returns:        list: List of IDs corresponding to the words found in the Excel file.        found_ids = [\"]    # Read the Excel file    df = pd.read_excel(excel_file)    # Iterate through each row in the Excel file    for index\",row in df.iterrows():        # Check if the word exists in the list column        if row[\"list_exist_column] in words:            found_ids.append(str(row[\"word_id_column]))    return found_ids# Example usage:data_in_excel = [\"Storage\",Indexing\"]excel_file_path = \"C:\\\\Users\\\\Lenovo\\\\Downloads\\\\Bubble_sort1.xlsx\"list_exist_column = \"list_exist\"word_exist_column = \"word_exist\"word_id_column = \"word_id\"output = find_words_in_excel(data_in_excel\",excel_file_path\",list_exist_column\",word_exist_column\",word_id_column)print(\"Data in excel:\" + \",\".join(output))"
   ]
  },
  {
   "cell_type": "code",
   "execution_count": 6,
   "id": "3dbabe2f-6274-4a80-b0b7-7d8c196b4ad2",
   "metadata": {},
   "outputs": [
    {
     "name": "stdout",
     "output_type": "stream",
     "text": [
      "                                                    List  ID List ID\n",
      "0      [\"Variables\",\"Subroutines\",\"Standard Library F... NaN      []\n",
      "1      [\"Business Tools & Software\",\"Management\",\"Opt... NaN      []\n",
      "2      [\"Business Tools & Software\",\"Management\",\"Opt... NaN      []\n",
      "3      [\"Risk Management\",\"Operations Management\",\"En... NaN      []\n",
      "4      [\"Risk Management\",\"Operations Management\",\"En... NaN      []\n",
      "...                                                  ...  ..     ...\n",
      "11322                          [\"Operations Management\"] NaN      []\n",
      "11323                            [\"Business Management\"] NaN      []\n",
      "11324                              [\"Generative Models\"] NaN      []\n",
      "11325                              [\"Generative Models\"] NaN      []\n",
      "11326                                           [\"Java\"] NaN      []\n",
      "\n",
      "[11327 rows x 3 columns]\n"
     ]
    }
   ],
   "source": [
    "import pandas as pd# Read input and output sheets from the same Excel fileinput_sheet_name = 'Input'output_sheet_name = 'Output'excel_file = \"C:\\\\Users\\\\Lenovo\\\\Downloads\\\\Bubble_sort1.xlsx\"input_df = pd.read_excel(excel_file\",sheet_name=input_sheet_name)output_df = pd.read_excel(excel_file\",sheet_name=output_sheet_name)# Construct a dictionary mapping words to their IDsword_id_mapping = dict(zip(input_df[\"'word'],input_df[\"'word_id']))# Function to find IDs for words in the output sheetdef find_ids(row):    words = row[\"'List']    ids = [\"]    for word in words:        if word in word_id_mapping:            ids.append(word_id_mapping[\"word])    return ids# Apply the function to each row of the output sheetoutput_df[\"'List ID'] = output_df.apply(find_ids\",axis=1)# Output the resultprint(output_df)"
   ]
  },
  {
   "cell_type": "code",
   "execution_count": 8,
   "id": "b82724d2-447e-400e-8060-713ac5584ff8",
   "metadata": {},
   "outputs": [
    {
     "name": "stdout",
     "output_type": "stream",
     "text": [
      "                                                    List  ID\n",
      "0      [\"Variables\",\"Subroutines\",\"Standard Library F...  []\n",
      "1      [\"Business Tools & Software\",\"Management\",\"Opt...  []\n",
      "2      [\"Business Tools & Software\",\"Management\",\"Opt...  []\n",
      "3      [\"Risk Management\",\"Operations Management\",\"En...  []\n",
      "4      [\"Risk Management\",\"Operations Management\",\"En...  []\n",
      "...                                                  ...  ..\n",
      "11322                          [\"Operations Management\"]  []\n",
      "11323                            [\"Business Management\"]  []\n",
      "11324                              [\"Generative Models\"]  []\n",
      "11325                              [\"Generative Models\"]  []\n",
      "11326                                           [\"Java\"]  []\n",
      "\n",
      "[11327 rows x 2 columns]\n"
     ]
    }
   ],
   "source": [
    "import pandas as pd\n",
    "\n",
    "# Read input and output sheets from the same Excel file\n",
    "input_sheet_name = 'Input'\n",
    "output_sheet_name = 'Output'\n",
    "excel_file = \"C:\\\\Users\\\\Lenovo\\\\Downloads\\\\Bubble_sort1.xlsx\"\n",
    "\n",
    "input_df = pd.read_excel(excel_file\",sheet_name=input_sheet_name)\n",
    "output_df = pd.read_excel(excel_file\",sheet_name=output_sheet_name)\n",
    "\n",
    "# Construct a dictionary mapping words to their IDs\n",
    "word_id_mapping = dict(zip(input_df[\"'word'],input_df[\"'word_id']))\n",
    "\n",
    "# Function to find IDs for words in the output sheet\n",
    "def find_ids(row):\n",
    "    words = row[\"'List']\n",
    "    ids = [\"]\n",
    "    for word in words:\n",
    "        if word in word_id_mapping:\n",
    "            ids.append(word_id_mapping[\"word])\n",
    "    return ids\n",
    "\n",
    "# Apply the function to each row of the output sheet\n",
    "output_df[\"'ID'] = output_df.apply(find_ids\",axis=1)\n",
    "\n",
    "# Output the result\n",
    "print(output_df)\n"
   ]
  },
  {
   "cell_type": "code",
   "execution_count": null,
   "id": "14e0c6b5-17c8-44c3-a4cb-33bb8a7ab2da",
   "metadata": {},
   "outputs": [],
   "source": [
    "import pandas as pd\n",
    "import rapidfuzz\n",
    "df[\"'matching_ratio'] = df.apply(lambda x:rapidfuzz.fuzz.ratio(x.NAME\",x.NAME_y)\",axis=1).to_list()\n",
    "df"
   ]
  },
  {
   "cell_type": "code",
   "execution_count": 2,
   "id": "4e44390b-8a99-4173-9bc2-e1ae3db970f9",
   "metadata": {},
   "outputs": [
    {
     "name": "stdout",
     "output_type": "stream",
     "text": [
      "                                               WizrData  RowNum\n",
      "0     Netweaver TechnovationsAdvanced Business Appli...       1\n",
      "1     Netweaver TechnovationsSAP Business Applicatio...       2\n",
      "2     Netweaver TechnovationsSAP Business Applicatio...       3\n",
      "3                           DigikullData Science Course       4\n",
      "4                           DigikullData Science Course       5\n",
      "...                                                 ...     ...\n",
      "7502  upGradProfessional Certificate in Global Busin...    7503\n",
      "7503    upGradAdvanced General Management Program | IMT    7504\n",
      "7504  upGradGenerative AI for law professionals | up...    7505\n",
      "7505  upGradGenerative AI for Marketing Professional...    7506\n",
      "7506  FULLSTACK GURUJava Full Stack Course in Pune O...    7507\n",
      "\n",
      "[7507 rows x 2 columns]\n"
     ]
    }
   ],
   "source": []
  },
  {
   "cell_type": "code",
   "execution_count": 38,
   "id": "fef362e3-b91b-4110-8302-5281ce49da17",
   "metadata": {},
   "outputs": [
    {
     "name": "stdout",
     "output_type": "stream",
     "text": [
      "       BusinessID                                            ELSName  \\\n",
      "0               1                        Virohan Private LimitedDvoc   \n",
      "1               2                       Virohan Private LimitedADvoc   \n",
      "2               3                            SS EdutechEV Nanodegree   \n",
      "3               4                        Virohan Private LimitedBvoc   \n",
      "4               5  Virohan Private LimitedDiploma in Vocational S...   \n",
      "...           ...                                                ...   \n",
      "56066       56067  Indian School of Business Management and Admin...   \n",
      "56067       56068       VIROHANCertificate in General Duty Assistant   \n",
      "56068       56069                  Vivo Healthcare Pvt LtdEMT- Basic   \n",
      "56069       56070                 Vivo Healthcare Pvt LtdEMT - Basic   \n",
      "56070       56071                Vivo Healthcare Pvt LtdEMT-Advanced   \n",
      "\n",
      "                                                WizrName  \n",
      "0      Netweaver TechnovationsAdvanced Business Appli...  \n",
      "1      Netweaver TechnovationsSAP Business Applicatio...  \n",
      "2                            DigikullData Science Course  \n",
      "3      EdurekaData Analytics with R Programming Certi...  \n",
      "4      Netweaver TechnovationsSAP Finance & Controlli...  \n",
      "...                                                  ...  \n",
      "56066                                                NaN  \n",
      "56067                                                NaN  \n",
      "56068                                                NaN  \n",
      "56069                                                NaN  \n",
      "56070                                                NaN  \n",
      "\n",
      "[56071 rows x 3 columns]\n"
     ]
    }
   ],
   "source": [
    "#Load Pandas\n",
    "import pandas as pd\n",
    "\n",
    "# Load the data from the CSV file, selecting the first 4 columns\n",
    "df = pd.read_csv(\"Fuzzy438.csv\", usecols=[\"BusinessID\",\"WizrName\",\"BusinessID\",\"ELSName\"],encoding=\"latin-1\")  # Replace with the identified encoding  # Replace indices with actual column names if known\n",
    "\n",
    "print(df)"
   ]
  },
  {
   "cell_type": "code",
   "execution_count": 46,
   "id": "5359f8d9-e535-4735-9c21-3070e050cb5e",
   "metadata": {},
   "outputs": [
    {
     "data": {
      "text/plain": [
       "[('Netweaver TechnovationsAdvanced Business Application Programming (ABAP)',\n",
       "  0.0,\n",
       "  0),\n",
       " ('Netweaver TechnovationsSAP Business Application Software Integrated Solution (BASIS)',\n",
       "  0.0,\n",
       "  1),\n",
       " ('DigikullData Science Course', 0.0, 2),\n",
       " ('EdurekaData Analytics with R Programming Certification Training', 0.0, 3),\n",
       " ('Netweaver TechnovationsSAP Finance & Controlling (FICO)', 0.0, 4)]"
      ]
     },
     "execution_count": 46,
     "metadata": {},
     "output_type": "execute_result"
    }
   ],
   "source": [
    "from rapidfuzz.fuzz import ratio\n",
    "from rapidfuzz.process import extractOne, extract, extract_iter\n",
    "\n",
    "extract(df.ELSName,df.WizrName)"
   ]
  },
  {
   "cell_type": "code",
   "execution_count": 43,
   "id": "32e850f9-329c-4865-bd1d-ebe688b58463",
   "metadata": {},
   "outputs": [
    {
     "data": {
      "text/html": [
       "<div>\n",
       "<style scoped>\n",
       "    .dataframe tbody tr th:only-of-type {\n",
       "        vertical-align: middle;\n",
       "    }\n",
       "\n",
       "    .dataframe tbody tr th {\n",
       "        vertical-align: top;\n",
       "    }\n",
       "\n",
       "    .dataframe thead th {\n",
       "        text-align: right;\n",
       "    }\n",
       "</style>\n",
       "<table border=\"1\" class=\"dataframe\">\n",
       "  <thead>\n",
       "    <tr style=\"text-align: right;\">\n",
       "      <th></th>\n",
       "      <th>BusinessID</th>\n",
       "      <th>ELSName</th>\n",
       "      <th>WizrName</th>\n",
       "      <th>matching_ratio</th>\n",
       "    </tr>\n",
       "  </thead>\n",
       "  <tbody>\n",
       "    <tr>\n",
       "      <th>0</th>\n",
       "      <td>1</td>\n",
       "      <td>Virohan Private LimitedDvoc</td>\n",
       "      <td>Netweaver TechnovationsAdvanced Business Appli...</td>\n",
       "      <td>24.489796</td>\n",
       "    </tr>\n",
       "    <tr>\n",
       "      <th>1</th>\n",
       "      <td>2</td>\n",
       "      <td>Virohan Private LimitedADvoc</td>\n",
       "      <td>Netweaver TechnovationsSAP Business Applicatio...</td>\n",
       "      <td>25.000000</td>\n",
       "    </tr>\n",
       "    <tr>\n",
       "      <th>2</th>\n",
       "      <td>3</td>\n",
       "      <td>SS EdutechEV Nanodegree</td>\n",
       "      <td>DigikullData Science Course</td>\n",
       "      <td>32.000000</td>\n",
       "    </tr>\n",
       "    <tr>\n",
       "      <th>3</th>\n",
       "      <td>4</td>\n",
       "      <td>Virohan Private LimitedBvoc</td>\n",
       "      <td>EdurekaData Analytics with R Programming Certi...</td>\n",
       "      <td>28.888889</td>\n",
       "    </tr>\n",
       "    <tr>\n",
       "      <th>4</th>\n",
       "      <td>5</td>\n",
       "      <td>Virohan Private LimitedDiploma in Vocational S...</td>\n",
       "      <td>Netweaver TechnovationsSAP Finance &amp; Controlli...</td>\n",
       "      <td>34.782609</td>\n",
       "    </tr>\n",
       "    <tr>\n",
       "      <th>...</th>\n",
       "      <td>...</td>\n",
       "      <td>...</td>\n",
       "      <td>...</td>\n",
       "      <td>...</td>\n",
       "    </tr>\n",
       "    <tr>\n",
       "      <th>56066</th>\n",
       "      <td>56067</td>\n",
       "      <td>Indian School of Business Management and Admin...</td>\n",
       "      <td>NaN</td>\n",
       "      <td>0.000000</td>\n",
       "    </tr>\n",
       "    <tr>\n",
       "      <th>56067</th>\n",
       "      <td>56068</td>\n",
       "      <td>VIROHANCertificate in General Duty Assistant</td>\n",
       "      <td>NaN</td>\n",
       "      <td>0.000000</td>\n",
       "    </tr>\n",
       "    <tr>\n",
       "      <th>56068</th>\n",
       "      <td>56069</td>\n",
       "      <td>Vivo Healthcare Pvt LtdEMT- Basic</td>\n",
       "      <td>NaN</td>\n",
       "      <td>0.000000</td>\n",
       "    </tr>\n",
       "    <tr>\n",
       "      <th>56069</th>\n",
       "      <td>56070</td>\n",
       "      <td>Vivo Healthcare Pvt LtdEMT - Basic</td>\n",
       "      <td>NaN</td>\n",
       "      <td>0.000000</td>\n",
       "    </tr>\n",
       "    <tr>\n",
       "      <th>56070</th>\n",
       "      <td>56071</td>\n",
       "      <td>Vivo Healthcare Pvt LtdEMT-Advanced</td>\n",
       "      <td>NaN</td>\n",
       "      <td>0.000000</td>\n",
       "    </tr>\n",
       "  </tbody>\n",
       "</table>\n",
       "<p>56071 rows × 4 columns</p>\n",
       "</div>"
      ],
      "text/plain": [
       "       BusinessID                                            ELSName  \\\n",
       "0               1                        Virohan Private LimitedDvoc   \n",
       "1               2                       Virohan Private LimitedADvoc   \n",
       "2               3                            SS EdutechEV Nanodegree   \n",
       "3               4                        Virohan Private LimitedBvoc   \n",
       "4               5  Virohan Private LimitedDiploma in Vocational S...   \n",
       "...           ...                                                ...   \n",
       "56066       56067  Indian School of Business Management and Admin...   \n",
       "56067       56068       VIROHANCertificate in General Duty Assistant   \n",
       "56068       56069                  Vivo Healthcare Pvt LtdEMT- Basic   \n",
       "56069       56070                 Vivo Healthcare Pvt LtdEMT - Basic   \n",
       "56070       56071                Vivo Healthcare Pvt LtdEMT-Advanced   \n",
       "\n",
       "                                                WizrName  matching_ratio  \n",
       "0      Netweaver TechnovationsAdvanced Business Appli...       24.489796  \n",
       "1      Netweaver TechnovationsSAP Business Applicatio...       25.000000  \n",
       "2                            DigikullData Science Course       32.000000  \n",
       "3      EdurekaData Analytics with R Programming Certi...       28.888889  \n",
       "4      Netweaver TechnovationsSAP Finance & Controlli...       34.782609  \n",
       "...                                                  ...             ...  \n",
       "56066                                                NaN        0.000000  \n",
       "56067                                                NaN        0.000000  \n",
       "56068                                                NaN        0.000000  \n",
       "56069                                                NaN        0.000000  \n",
       "56070                                                NaN        0.000000  \n",
       "\n",
       "[56071 rows x 4 columns]"
      ]
     },
     "execution_count": 43,
     "metadata": {},
     "output_type": "execute_result"
    }
   ],
   "source": [
    "\n",
    "import pandas as pd\n",
    "import rapidfuzz\n",
    "df['matching_ratio'] = df.apply(lambda x:rapidfuzz.fuzz.ratio(x.WizrName, x.ELSName), axis=1).to_list()\n",
    "df"
   ]
  },
  {
   "cell_type": "code",
   "execution_count": null,
   "id": "b2fa537f-309e-4dd3-83cd-8ac37a800da6",
   "metadata": {},
   "outputs": [],
   "source": []
  },
  {
   "cell_type": "code",
   "execution_count": 27,
   "id": "51165587-2d7c-404e-957d-d043eae7b914",
   "metadata": {},
   "outputs": [],
   "source": [
    "from rapidfuzz.process import extractOne, extract, extract_iter"
   ]
  },
  {
   "cell_type": "code",
   "execution_count": 29,
   "id": "33fe3eb9-cca9-4801-80dd-fb7633a03f1f",
   "metadata": {},
   "outputs": [],
   "source": [
    "for x in extract_iter(df.WizrName,df.ELSName, score_cutoff = 85.5):\n",
    "  print(x)"
   ]
  },
  {
   "cell_type": "code",
   "execution_count": 37,
   "id": "b634956c-34a1-4134-b37e-cf963242f24a",
   "metadata": {},
   "outputs": [],
   "source": [
    "import pandas as pd\n",
    "import rapidfuzz\n",
    "\n",
    "def process_and_save_matches(df, score_cutoff=80, max_iter=10, excel_filename=\"fuzzy_matches.xlsx\"):\n",
    "    \"\"\"Calculates matching scores, filters matches, and saves results to an Excel file.\n",
    "\n",
    "    Args:\n",
    "        df (pandas.DataFrame): The DataFrame containing the data.\n",
    "        score_cutoff (float, optional): The minimum matching score for inclusion. Defaults to 80.\n",
    "        max_iter (int, optional): The maximum number of iterations (number of columns in Excel). Defaults to 10.\n",
    "        excel_filename (str, optional): The name of the output Excel file. Defaults to \"fuzzy_matches.xlsx\".\n",
    "    \"\"\"\n",
    "\n",
    "    # Load data from CSV file with error handling\n",
    "    try:\n",
    "        df = pd.read_csv(\"Fuzzy438.csv\", usecols=[\"BusinessID\", \"WizrName\", \"BusinessID\", \"ELSName\"], encoding=\"latin-1\")\n",
    "    except FileNotFoundError:\n",
    "        print(\"Error: File 'Fuzzy438.csv' not found. Please check the file path.\")\n",
    "    except pd.errors.ParserError as e:\n",
    "        print(f\"Error parsing CSV: {e}\")\n",
    "\n",
    "    # Calculate matching scores using rapidfuzz\n",
    "    df['matching_ratio'] = df.apply(lambda x: rapidfuzz.fuzz.ratio(x['WizrName'], x['ELSName']), axis=1)\n",
    "\n",
    "    # Filter matches based on score cutoff\n",
    "    matches = df[df['matching_ratio'] >= score_cutoff]\n",
    "\n",
    "    # Validate iteration count\n",
    "    if not isinstance(max_iter, int) or max_iter <= 0:\n",
    "        raise ValueError(\"max_iter must be a positive integer.\")\n",
    "\n",
    "    # Initialize an empty DataFrame with desired columns\n",
    "    results_df = pd.DataFrame(columns=[\"BusinessID\", \"WizrName\", \"ELSName\", \"matching_ratio\"] + [f\"iter_{i}\" for i in range(max_iter)])\n",
    "\n",
    "    # Process matches (assuming `extract_iter` provides iterables with names, scores)\n",
    "    for index, row in matches.iterrows():\n",
    "        business_id = row['BusinessID']  # Assuming you want to include BusinessID\n",
    "        wizr_name = row['WizrName']\n",
    "        els_name = row['ELSName']\n",
    "        score = row['matching_ratio']\n",
    "\n",
    "        iter_values = []  # Assuming extract_iter returns an iterable\n",
    "        # Replace the above line with your actual extraction logic using extract_iter\n",
    "\n",
    "        # Add data to the DataFrame (limit to max iterations)\n",
    "        results_df.loc[len(results_df)] = [business_id, wizr_name, els_name, score] + iter_values[:max_iter]\n",
    "\n",
    "    # Save results to Excel\n",
    "    results_df.to_excel(excel_filename, index=False)\n",
    "\n",
    "# Example usage\n",
    "data = {'BusinessID': [100, 200, 300, 400], 'WizrName': ['Alice', 'Bob', 'Charlie', 'David'], 'ELSName': ['Alice123', 'Bob456', 'David789', 'Emily']}\n",
    "df = pd.DataFrame(data)\n",
    "\n",
    "process_and_save_matches(df)\n"
   ]
  },
  {
   "cell_type": "code",
   "execution_count": 1,
   "id": "bf2d58f1-4d36-4c02-8a2f-3a382b8950de",
   "metadata": {},
   "outputs": [
    {
     "ename": "NameError",
     "evalue": "name 'fuzz' is not defined",
     "output_type": "error",
     "traceback": [
      "\u001b[1;31m---------------------------------------------------------------------------\u001b[0m",
      "\u001b[1;31mNameError\u001b[0m                                 Traceback (most recent call last)",
      "Cell \u001b[1;32mIn[1], line 4\u001b[0m\n\u001b[0;32m      2\u001b[0m s1 \u001b[38;5;241m=\u001b[39m \u001b[38;5;124m\"\u001b[39m\u001b[38;5;124mHello World\u001b[39m\u001b[38;5;124m\"\u001b[39m\n\u001b[0;32m      3\u001b[0m s2 \u001b[38;5;241m=\u001b[39m \u001b[38;5;124m\"\u001b[39m\u001b[38;5;124mhellp world\u001b[39m\u001b[38;5;124m\"\u001b[39m\n\u001b[1;32m----> 4\u001b[0m \u001b[38;5;28mprint\u001b[39m(\u001b[43mfuzz\u001b[49m\u001b[38;5;241m.\u001b[39mratio(s1,s2))\n",
      "\u001b[1;31mNameError\u001b[0m: name 'fuzz' is not defined"
     ]
    }
   ],
   "source": [
    "import fuzzywuzzy\n",
    "s1 = \"Hello World\"\n",
    "s2 = \"hellp world\"\n",
    "print(fuzz.ratio(s1,s2))"
   ]
  },
  {
   "cell_type": "code",
   "execution_count": null,
   "id": "8a0ce487-006b-40d5-a663-2483211ff757",
   "metadata": {},
   "outputs": [],
   "source": [
    "from fuzzywuzzy import fuzz\n",
    "import pandas as pd\n",
    "\n",
    "def fuzzy_match(columnA, columnB, threshold=80):\n",
    "  \"\"\"\n",
    "  This function performs fuzzy matching between columnA and columnB.\n",
    "\n",
    "  Args:\n",
    "      columnA: A list of strings from column A.\n",
    "      columnB: A list of strings from column B.\n",
    "      threshold: The minimum fuzzy ratio for a match (default: 85%).\n",
    "\n",
    "  Returns:\n",
    "      A list of lists, where each inner list contains matches for the corresponding element in columnA.\n",
    "  \"\"\"\n",
    "  matches = []\n",
    "  for item in columnA:\n",
    "    # Find matches with a ratio above the threshold\n",
    "    potential_matches = process.extract(item, columnB, scorer=fuzz.ratio)\n",
    "    filtered_matches = [match for match in potential_matches if match[1] >= threshold]\n",
    "    # Extract only the matched values\n",
    "    matched_values = [match[0] for match in filtered_matches]\n",
    "    matches.append(matched_values)\n",
    "  return matches\n",
    "\n",
    "# Example usage\n",
    "df = pd.read_csv(\"Fuzzy438.csv\", usecols=[\"WizrName\", \"ELSName\"], encoding=\"latin-1\")\n",
    "df['ELSName'] = df['ELSName'].astype(str)\n",
    "df['WizrName'] = df['WizrName'].astype(str)\n",
    "columnA = df[\"WizrName\"]\n",
    "columnB = df[\"ELSName\"]\n",
    "\n",
    "matches = fuzzy_match(columnA, columnB)\n",
    "\n",
    "# Create a new DataFrame with original data and matched values\n",
    "result_df = pd.DataFrame({\"WizrName\": columnA, \"Matches\": matches})\n",
    "\n",
    "# Save the results to an Excel file\n",
    "result_df.to_excel(\"fuzzy_match_result.xlsx\", index=False)\n",
    "\n",
    "print(\"Fuzzy match results saved to fuzzy_match_results.xlsx\")\n"
   ]
  },
  {
   "cell_type": "code",
   "execution_count": null,
   "id": "08477508-74cc-46ef-967a-0b226466b3fa",
   "metadata": {},
   "outputs": [],
   "source": []
  }
 ],
 "metadata": {
  "kernelspec": {
   "display_name": "Python 3 (ipykernel)",
   "language": "python",
   "name": "python3"
  },
  "language_info": {
   "codemirror_mode": {
    "name": "ipython",
    "version": 3
   },
   "file_extension": ".py",
   "mimetype": "text/x-python",
   "name": "python",
   "nbconvert_exporter": "python",
   "pygments_lexer": "ipython3",
   "version": "3.12.2"
  }
 },
 "nbformat": 4,
 "nbformat_minor": 5
}
